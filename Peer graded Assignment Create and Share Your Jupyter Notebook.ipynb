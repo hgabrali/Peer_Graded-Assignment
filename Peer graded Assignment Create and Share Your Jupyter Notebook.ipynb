{
 "cells": [
  {
   "cell_type": "markdown",
   "id": "9f30dfbf-6998-4d3b-ab58-3976392e49c6",
   "metadata": {},
   "source": [
    "# My Jupyter Notebook on IBM Watson Studio"
   ]
  },
  {
   "cell_type": "markdown",
   "id": "facc0d5e-0c96-4d55-aa01-5c4931497d94",
   "metadata": {},
   "source": [
    "**Hande Gabrali Knobloch**"
   ]
  },
  {
   "cell_type": "markdown",
   "id": "e2d7691e-ea2b-4961-9d84-97f19b0639bc",
   "metadata": {},
   "source": [
    "Data Scientist"
   ]
  },
  {
   "cell_type": "markdown",
   "id": "d57c3505-c8dd-4d31-bae0-ecd0a38b2b69",
   "metadata": {},
   "source": [
    "*I am interested in data science because i like numbers and storytelling. Also data science fits good in advertising and media.*"
   ]
  },
  {
   "cell_type": "markdown",
   "id": "7b54d26b-d66a-4132-bd80-b935e9318ec2",
   "metadata": {},
   "source": [
    "### My Code is \"Good Morning, Guten Morgen, Gunaydin!\":"
   ]
  },
  {
   "cell_type": "code",
   "execution_count": 2,
   "id": "807af5ef-4928-4974-a58e-699e282186cf",
   "metadata": {},
   "outputs": [
    {
     "name": "stdout",
     "output_type": "stream",
     "text": [
      "Good Morning, Guten Morgen, Gunaydin\n"
     ]
    }
   ],
   "source": [
    "print(\"Good Morning, Guten Morgen, Gunaydin\")"
   ]
  },
  {
   "cell_type": "markdown",
   "id": "5333d7f5-a821-444c-b3f0-259a8ef2c1e2",
   "metadata": {},
   "source": [
    "# Shopping List:\n",
    "1. Milk\n",
    "2. Bread\n",
    "3. Meat\n",
    "4. Oil\n",
    "\n",
    "* Eggs\n",
    "- Apple\n",
    "+ Wine\n",
    "\n",
    "\n",
    "# Link:\n",
    "[Link to IBM Watson Studio](https://www.ibm.com/cloud/watson-studio?utm_content=SRCWW&p1=Search&p4=43700067979442999&p5=e&gclid=Cj0KCQiA37KbBhDgARIsAIzce14O9Ja4t3eGL9cowEY3-bDc6X4I0m9EvA89iX5zziHrq1FaUqGw4uMaAiLTEALw_wcB&gclsrc=aw.ds)"
   ]
  },
  {
   "cell_type": "code",
   "execution_count": null,
   "id": "53895c7d-b8c4-4a84-b384-cb2e5ea85127",
   "metadata": {},
   "outputs": [],
   "source": []
  }
 ],
 "metadata": {
  "kernelspec": {
   "display_name": "Python",
   "language": "python",
   "name": "conda-env-python-py"
  },
  "language_info": {
   "codemirror_mode": {
    "name": "ipython",
    "version": 3
   },
   "file_extension": ".py",
   "mimetype": "text/x-python",
   "name": "python",
   "nbconvert_exporter": "python",
   "pygments_lexer": "ipython3",
   "version": "3.7.12"
  }
 },
 "nbformat": 4,
 "nbformat_minor": 5
}
